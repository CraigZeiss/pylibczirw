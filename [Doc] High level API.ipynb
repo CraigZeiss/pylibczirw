{
 "cells": [
  {
   "cell_type": "markdown",
   "id": "sufficient-scheme",
   "metadata": {
    "pycharm": {
     "name": "#%% md\n"
    }
   },
   "source": [
    "# pylibCZIrw Demo\n",
    "\n",
    "In this notebook one can see how to read and write czis using pylibCZIrw.\n",
    "\n",
    "At the moment, pylibCZIrw completely abstracts away the subblock concept, both in the reading and in the writing APIs.\n",
    "If pylibCZIrw is extended in the future to support subblock-based access (e.g. accessing acquisition tiles),\n",
    "this API must not be altered.\n",
    "\n",
    "## Reading a CZI file\n",
    "\n",
    "Both the reading and writing APIs are contained within the czi object in pylibCZIrw, so let's start by importing it."
   ]
  },
  {
   "cell_type": "code",
   "execution_count": null,
   "id": "martial-craps",
   "metadata": {
    "pycharm": {
     "name": "#%%\n"
    }
   },
   "outputs": [],
   "source": [
    "from pylibCZIrw import czi"
   ]
  },
  {
   "cell_type": "markdown",
   "id": "4779e066",
   "metadata": {
    "pycharm": {
     "name": "#%% md\n"
    }
   },
   "source": [
    "### Open a czi\n",
    "\n",
    "We can open a czi using a context manager and then read the required data.\n",
    "\n",
    "The following examples use a czi file that is available at \"M:\\ZEN-DATA\\pylibCZIrw\\demo_read.czi\" but is used locally for performance reasons."
   ]
  },
  {
   "cell_type": "code",
   "execution_count": null,
   "id": "novel-leisure",
   "metadata": {
    "pycharm": {
     "name": "#%%\n"
    }
   },
   "outputs": [],
   "source": [
    "demo_czi_read = r'D:\\pylibCZIrw_demo\\demo_read.czi'"
   ]
  },
  {
   "cell_type": "markdown",
   "id": "generous-institute",
   "metadata": {
    "pycharm": {
     "name": "#%% md\n"
    }
   },
   "source": [
    "### Read metadata\n",
    "\n",
    "We can get the full metadata of the czi as follows:"
   ]
  },
  {
   "cell_type": "code",
   "execution_count": null,
   "id": "urban-consumption",
   "metadata": {
    "pycharm": {
     "name": "#%%\n"
    }
   },
   "outputs": [],
   "source": [
    "with czi.open_czi(demo_czi_read) as czi_doc:\n",
    "    print(czi_doc.raw_metadata)"
   ]
  },
  {
   "cell_type": "markdown",
   "id": "freelance-virtue",
   "metadata": {
    "pycharm": {
     "name": "#%% md\n"
    }
   },
   "source": [
    "## Get dimensions\n",
    "There are different properties that allow us to know about the dimensions of the czi file.\n",
    "The total bounding box gives us all the dimensions of all orthogonal planes of the CZI."
   ]
  },
  {
   "cell_type": "code",
   "execution_count": null,
   "id": "desirable-layer",
   "metadata": {
    "pycharm": {
     "name": "#%%\n"
    }
   },
   "outputs": [],
   "source": [
    "with czi.open_czi(demo_czi_read) as czi_doc:\n",
    "    total_bounding_box = czi_doc.total_bounding_box\n",
    "    print(total_bounding_box)"
   ]
  },
  {
   "cell_type": "markdown",
   "id": "rapid-savings",
   "metadata": {
    "pycharm": {
     "name": "#%% md\n"
    }
   },
   "source": [
    "The total bounding rectangle gives us the X and Y dimensions of the CZI, i.e. the (X, Y) of the total bounding box."
   ]
  },
  {
   "cell_type": "code",
   "execution_count": null,
   "id": "b8177a12",
   "metadata": {
    "pycharm": {
     "name": "#%%\n"
    }
   },
   "outputs": [],
   "source": [
    "with czi.open_czi(demo_czi_read) as czi_doc:\n",
    "    total_bounding_rectangle = czi_doc.total_bounding_rectangle\n",
    "    print(total_bounding_rectangle)"
   ]
  },
  {
   "cell_type": "markdown",
   "id": "bce02b4e",
   "metadata": {
    "pycharm": {
     "name": "#%% md\n"
    }
   },
   "source": [
    "Scenes are not orthogonal to the other dimensions. They are contained within the 2D planes and can be seen simply as tags.\n",
    "The scene bounding rectangles give us the bounding rectangle for each scene."
   ]
  },
  {
   "cell_type": "code",
   "execution_count": null,
   "id": "18a7c877",
   "metadata": {
    "pycharm": {
     "name": "#%%\n"
    }
   },
   "outputs": [],
   "source": [
    "with czi.open_czi(demo_czi_read) as czi_doc:\n",
    "    scenes_bounding_rectangle = czi_doc.scenes_bounding_rectangle\n",
    "    print(scenes_bounding_rectangle)"
   ]
  },
  {
   "cell_type": "markdown",
   "id": "381aa4b3",
   "metadata": {
    "pycharm": {
     "name": "#%% md\n"
    }
   },
   "source": [
    "## Get pixel type\n",
    "A channel's pixel type can be discovered with:"
   ]
  },
  {
   "cell_type": "code",
   "execution_count": null,
   "id": "a55bc247",
   "metadata": {
    "pycharm": {
     "name": "#%%\n"
    }
   },
   "outputs": [],
   "source": [
    "with czi.open_czi(demo_czi_read) as czi_doc:\n",
    "    c0_pixel_type = czi_doc.get_channel_pixel_type(0)\n",
    "    print(c0_pixel_type)"
   ]
  },
  {
   "cell_type": "markdown",
   "id": "8e105838",
   "metadata": {
    "pycharm": {
     "name": "#%% md\n"
    }
   },
   "source": [
    "Or we can simply get all pixel types with:"
   ]
  },
  {
   "cell_type": "code",
   "execution_count": null,
   "id": "9d5d8f6c",
   "metadata": {
    "pycharm": {
     "name": "#%%\n"
    }
   },
   "outputs": [],
   "source": [
    "with czi.open_czi(demo_czi_read) as czi_doc:\n",
    "    pixel_type = czi_doc.pixel_types\n",
    "    print(pixel_type)\n"
   ]
  },
  {
   "cell_type": "markdown",
   "id": "143fbcb0",
   "metadata": {
    "pycharm": {
     "name": "#%% md\n"
    }
   },
   "source": [
    "## Read pixel data\n",
    "We have many options when reading pixel data which is returned as a numpy array.\n",
    "\n",
    "### Read whole 2D plane\n",
    "Now let's read some full planes."
   ]
  },
  {
   "cell_type": "code",
   "execution_count": null,
   "id": "114e59e5",
   "metadata": {
    "pycharm": {
     "name": "#%%\n"
    }
   },
   "outputs": [],
   "source": [
    "from matplotlib import pyplot as plt\n",
    "\n",
    "with czi.open_czi(demo_czi_read) as czi_doc:\n",
    "    plane_1 = {'C': 0, 'Z': 2, 'T': 7}\n",
    "    plane_2 = {'C': 1, 'Z': 3, 'T': 2}\n",
    "\n",
    "    frame_0 = czi_doc.read() # equivalent to reading {'C': 0, 'Z': 0, 'T': 0}\n",
    "    frame_1 = czi_doc.read(plane=plane_1)\n",
    "    frame_2 = czi_doc.read(plane=plane_2)\n",
    "\n",
    "    fig, ax = plt.subplots(3, 1, figsize=(150, 150))\n",
    "    ax[0].imshow(frame_0)\n",
    "    ax[1].imshow(frame_1)\n",
    "    ax[2].imshow(frame_2)"
   ]
  },
  {
   "cell_type": "markdown",
   "id": "cdd64f81",
   "metadata": {
    "pycharm": {
     "name": "#%% md\n"
    }
   },
   "source": [
    "### Read ROI in the 2D plane\n",
    "We can also read an ROI within the plane.\n",
    "This is particularly useful when dealing with large images whose planes would not fit into memory."
   ]
  },
  {
   "cell_type": "code",
   "execution_count": null,
   "id": "71c47e67",
   "metadata": {
    "pycharm": {
     "name": "#%%\n"
    }
   },
   "outputs": [],
   "source": [
    "with czi.open_czi(demo_czi_read) as czi_doc:\n",
    "    frame = czi_doc.read(roi=(1800, 0, 600, 400))\n",
    "\n",
    "    fig, ax = plt.subplots(figsize=(50, 50))\n",
    "    ax.imshow(frame)"
   ]
  },
  {
   "cell_type": "markdown",
   "id": "fc3927ef",
   "metadata": {
    "pycharm": {
     "name": "#%% md\n"
    }
   },
   "source": [
    "### Read ROI only for one scene\n",
    "We can also get pixel data exclusively from one scene only using the scene parameter."
   ]
  },
  {
   "cell_type": "code",
   "execution_count": null,
   "id": "776290df",
   "metadata": {
    "pycharm": {
     "name": "#%%\n"
    }
   },
   "outputs": [],
   "source": [
    "with czi.open_czi(demo_czi_read) as czi_doc:\n",
    "    frame = czi_doc.read(roi=total_bounding_rectangle, scene=0)\n",
    "    fig, ax = plt.subplots(figsize=(150, 150))\n",
    "    ax.imshow(frame)"
   ]
  },
  {
   "cell_type": "markdown",
   "id": "afa9a65d",
   "metadata": {
    "pycharm": {
     "name": "#%% md\n"
    }
   },
   "source": [
    "If we specify a scene, the ROI will default that scene's bounding rectangle. This helps simplify the code as seen below:"
   ]
  },
  {
   "cell_type": "code",
   "execution_count": null,
   "id": "aa344dda",
   "metadata": {
    "pycharm": {
     "name": "#%%\n"
    }
   },
   "outputs": [],
   "source": [
    "with czi.open_czi(demo_czi_read) as czi_doc:\n",
    "    frame_s0 = czi_doc.read(scene=0)\n",
    "    fig, ax = plt.subplots(figsize=(150, 150))\n",
    "    ax.imshow(frame_s0)"
   ]
  },
  {
   "cell_type": "markdown",
   "id": "fb589b3d",
   "metadata": {
    "pycharm": {
     "name": "#%% md\n"
    }
   },
   "source": [
    "### Additional parameters\n",
    "\n",
    "We can specify the pixel type in which we want the data. If we don't specify any, the data is returned in its original pixel format.\n",
    "The shape of the numpy array will naturally depend on the chosen pixel type."
   ]
  },
  {
   "cell_type": "code",
   "execution_count": null,
   "id": "cb09392f",
   "metadata": {
    "pycharm": {
     "name": "#%%\n"
    }
   },
   "outputs": [],
   "source": [
    "with czi.open_czi(demo_czi_read) as czi_doc:\n",
    "    frame_gray8 = czi_doc.read(pixel_type='Gray8')\n",
    "    frame_gray32float = czi_doc.read(pixel_type='Gray32Float')\n",
    "    frame_bgr48 = czi_doc.read(pixel_type='Bgr48')\n",
    "\n",
    "    print('shape {0}, data type {1}'.format(frame_gray8.shape, frame_gray8.dtype))\n",
    "    print('shape {0}, data type {1}'.format(frame_gray32float.shape, frame_gray32float.dtype))\n",
    "    print('shape {0}, data type {1}'.format(frame_bgr48.shape, frame_bgr48.dtype))"
   ]
  },
  {
   "cell_type": "markdown",
   "id": "e7ff5d1d",
   "metadata": {
    "pycharm": {
     "name": "#%% md\n"
    }
   },
   "source": [
    "We can also specify a zoom factor between 0 and 1:"
   ]
  },
  {
   "cell_type": "code",
   "execution_count": null,
   "id": "78245625",
   "metadata": {
    "pycharm": {
     "name": "#%%\n"
    }
   },
   "outputs": [],
   "source": [
    "with czi.open_czi(demo_czi_read) as czi_doc:\n",
    "    frame_0 = czi_doc.read(zoom=1, pixel_type='Gray8')\n",
    "    frame_1 = czi_doc.read(zoom=0.1, pixel_type='Gray8')\n",
    "\n",
    "    fig, ax = plt.subplots(2, 1, figsize=(150, 150))\n",
    "    ax[0].imshow(frame_0.squeeze())\n",
    "    ax[1].imshow(frame_1.squeeze())"
   ]
  },
  {
   "cell_type": "markdown",
   "id": "d09799d7",
   "metadata": {
    "pycharm": {
     "name": "#%% md\n"
    }
   },
   "source": [
    "And a background colour, which of course needs to match the returned pixel type."
   ]
  },
  {
   "cell_type": "code",
   "execution_count": null,
   "id": "c812340f",
   "metadata": {
    "pycharm": {
     "name": "#%%\n"
    }
   },
   "outputs": [],
   "source": [
    "with czi.open_czi(demo_czi_read) as czi_doc:\n",
    "    black_background = (0, 0, 0) #black\n",
    "    other_background = (255, 0, 0) #red\n",
    "\n",
    "    frame_0 = czi_doc.read(background_pixel=black_background)\n",
    "    frame_1 = czi_doc.read(background_pixel=other_background)\n",
    "\n",
    "    fig, ax = plt.subplots(2, 1, figsize=(150, 150))\n",
    "    ax[0].imshow(frame_0)\n",
    "    ax[1].imshow(frame_1)"
   ]
  },
  {
   "cell_type": "markdown",
   "id": "a0b8077d",
   "metadata": {
    "pycharm": {
     "name": "#%% md\n"
    }
   },
   "source": [
    "## Writing a CZI file\n",
    "\n",
    "The writing API only allows creating new czi files. Editing existing czi file is not supported.\n",
    "The writing API is somewhat symmetrical to the reading API.\n",
    "\n",
    "### Create a new CZI\n",
    "Similarly to reading, before writing, we must create a czi instance. We can then write to the created instance.\n",
    "\n",
    "### Write data\n",
    "Writing pixel data is very similar to reading albeit with fewer parameters.\n",
    "\n",
    "We can define the plane to which we want to write the data.\n",
    "\n",
    "The data to be written is also provided as a numpy array,\n",
    "and the pixel type in which it is written is automatically determined from the shape of the array and its data type.\n",
    "\n",
    "So let's write two channels with different pixel types:"
   ]
  },
  {
   "cell_type": "code",
   "execution_count": null,
   "id": "44ba6c63",
   "metadata": {
    "pycharm": {
     "name": "#%%\n"
    }
   },
   "outputs": [],
   "source": [
    "import numpy as np\n",
    "\n",
    "demo_czi_write = r'D:\\pylibCZIrw_demo\\demo_write_0.czi'\n",
    "\n",
    "with czi.create_czi(demo_czi_write) as new_czi_doc:\n",
    "    plane_0 = {'C': 0}\n",
    "    plane_1 = {'C': 1}\n",
    "    data_gray8 = np.random.randint(255, size=(1024,1024,1),dtype=np.uint8)\n",
    "    data_bgr24 = np.random.randint(255, size=(1024,1024,3),dtype=np.uint8)\n",
    "\n",
    "    new_czi_doc.write(data=data_gray8, plane=plane_0)\n",
    "    new_czi_doc.write(data=data_bgr24, plane=plane_1)"
   ]
  },
  {
   "cell_type": "markdown",
   "id": "7df77b11",
   "metadata": {
    "pycharm": {
     "name": "#%% md\n"
    }
   },
   "source": [
    "We can also write data to a specific location within the plane by providing the upper left pixel coordinates.\n",
    "Let's write more data but at a different locations:"
   ]
  },
  {
   "cell_type": "code",
   "execution_count": null,
   "id": "af9d0d03",
   "metadata": {
    "pycharm": {
     "name": "#%%\n"
    }
   },
   "outputs": [],
   "source": [
    "demo_czi_write = r'D:\\pylibCZIrw_demo\\demo_write_1.czi'\n",
    "\n",
    "with czi.create_czi(demo_czi_write) as new_czi_doc:\n",
    "    new_czi_doc.write(data=data_gray8, plane=plane_0)\n",
    "    new_czi_doc.write(data=data_gray8, plane=plane_0, location=(2000, 2000))"
   ]
  },
  {
   "cell_type": "markdown",
   "id": "5c2e0fce",
   "metadata": {
    "pycharm": {
     "name": "#%% md\n"
    }
   },
   "source": [
    "### Write scenes\n",
    "\n",
    "Writing a scene is nothing other than writing data and tagging it with a scene index. The scene index defaults to zero.\n",
    "Let's write a scene to the same plane:"
   ]
  },
  {
   "cell_type": "code",
   "execution_count": null,
   "id": "286a855a",
   "metadata": {
    "pycharm": {
     "name": "#%%\n"
    }
   },
   "outputs": [],
   "source": [
    "demo_czi_write = r'D:\\pylibCZIrw_demo\\demo_write_scenes.czi'\n",
    "\n",
    "with czi.create_czi(demo_czi_write) as new_czi_doc:\n",
    "    new_czi_doc.write(data=data_gray8, plane=plane_0, scene=0)\n",
    "    #test\n",
    "    new_czi_doc.write(data=data_gray8, plane=plane_0, location=(2000, 0), scene=1)"
   ]
  },
  {
   "cell_type": "markdown",
   "id": "ca687707",
   "metadata": {
    "pycharm": {
     "name": "#%% md\n"
    }
   },
   "source": [
    "### Write Metadata\n",
    "\n",
    "It is possible to write metadata and even provide the following optional parameters:\n",
    "\n",
    "- document name\n",
    "- channel names\n",
    "- scaling in m (scale_x, scale_y, scale_z)\n",
    "\n",
    "This list of parameters will be extended on a case-by-case basis."
   ]
  },
  {
   "cell_type": "code",
   "execution_count": null,
   "id": "654ebfd3",
   "metadata": {
    "pycharm": {
     "name": "#%%\n"
    }
   },
   "outputs": [],
   "source": [
    "demo_czi_write = r'D:\\pylibCZIrw_demo\\demo_write_metdata.czi'\n",
    "\n",
    "with czi.create_czi(demo_czi_write) as new_czi_doc:\n",
    "    new_czi_doc.write(data=data_gray8, plane={'C': 0})\n",
    "    new_czi_doc.write(data=data_gray8, plane={'C': 1})\n",
    "    plane_1 = {'C': 1}\n",
    "    new_czi_doc.write_metadata(\n",
    "        document_name='foo',\n",
    "        channel_names={ 0: \"foo\", 1: \"bar\" },\n",
    "        scale_x=1 * 1e-6, scale_y=2 * 1e-6, scale_z=3 * 1e-6\n",
    "    )"
   ]
  },
  {
   "cell_type": "markdown",
   "id": "9c9acefc",
   "metadata": {
    "pycharm": {
     "name": "#%% md\n"
    }
   },
   "source": [
    "If no metadata was written, the default metadata is automatically written upon closing the document."
   ]
  },
  {
   "cell_type": "markdown",
   "id": "ca1b952f",
   "metadata": {
    "pycharm": {
     "name": "#%% md\n"
    }
   },
   "source": [
    "## Tiling a large image\n",
    "\n",
    "The read and write API allow us to work with large images by breaking down the access into \"tiles\".\n",
    "However, defining this tiles can be a cumbersome process.\n",
    "\n",
    "The [czitile](https://dev.azure.com/ZEISSgroup/RMS-DEV/_git/RMS_PyPI_CZTile) package was created to answer this need.\n",
    "\n",
    "This package contains pure logic for tiling rectangles and is not IO nor format bound.\n",
    "\n",
    "Let's read the original file using cztile and write a new with the same dimensions and scenes but with\n",
    "random data instead."
   ]
  },
  {
   "cell_type": "code",
   "execution_count": null,
   "id": "1cfbc6f3",
   "metadata": {
    "pycharm": {
     "name": "#%%\n"
    }
   },
   "outputs": [],
   "source": [
    "from cztile.fixed_total_area_strategy import AlmostEqualBorderFixedTotalAreaStrategy2D\n",
    "\n",
    "demo_czi_write = r'D:\\pylibCZIrw_demo\\copy_with_random_data.czi'\n",
    "\n",
    "with czi.open_czi(demo_czi_read) as czi_doc_r:\n",
    "    with czi.create_czi(demo_czi_write) as czi_doc_w:\n",
    "        # define tile strategy\n",
    "        tiler = AlmostEqualBorderFixedTotalAreaStrategy2D(\n",
    "            total_tile_width=450,\n",
    "            total_tile_height=450,\n",
    "            min_border_width=15\n",
    "        )\n",
    "\n",
    "        # tile scene bounding rectangles instead of the whole 2D plane\n",
    "        for scene_index in czi_doc_r.scenes_bounding_rectangle.keys():\n",
    "            tiles = tiler.tile_rectangle(czi_doc_r.scenes_bounding_rectangle[scene_index])\n",
    "            for t in range(czi_doc_r.total_bounding_box['T'][1]):\n",
    "                for z in range(czi_doc_r.total_bounding_box['Z'][1]):\n",
    "                    for c in range(czi_doc_r.total_bounding_box['C'][1]):\n",
    "                        for tile in tiles:\n",
    "                            #write non-overlapping data\n",
    "                            # data = np.random.randint(255, size=(tile.center.h, tile.center.w, 1), dtype=np.uint8)\n",
    "                            # czi_doc_w.write(\n",
    "                            #     data,\n",
    "                            #     location=(tile.center.x, tile.center.y),\n",
    "                            #     plane={'C': c, 'Z': z, 'T': t},\n",
    "                            #     scene=scene_index)\n",
    "                            #write overlapping data\n",
    "                            data = np.random.randint(255, size=(tile.roi.h, tile.roi.w, 1), dtype=np.uint8)\n",
    "                            czi_doc_w.write(\n",
    "                                data,\n",
    "                                location=(tile.roi.x, tile.roi.y),\n",
    "                                plane={'C': c, 'Z': z, 'T': t},\n",
    "                                scene=scene_index)"
   ]
  }
 ],
 "metadata": {
  "kernelspec": {
   "display_name": "Python 3",
   "language": "python",
   "name": "python3"
  },
  "language_info": {
   "codemirror_mode": {
    "name": "ipython",
    "version": 3
   },
   "file_extension": ".py",
   "mimetype": "text/x-python",
   "name": "python",
   "nbconvert_exporter": "python",
   "pygments_lexer": "ipython3",
   "version": "3.7.8"
  }
 },
 "nbformat": 4,
 "nbformat_minor": 5
}